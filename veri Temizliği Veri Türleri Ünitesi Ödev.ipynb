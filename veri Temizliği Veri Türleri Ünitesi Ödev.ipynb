{
 "cells": [
  {
   "cell_type": "markdown",
   "metadata": {},
   "source": [
    "# Ödev 1"
   ]
  },
  {
   "cell_type": "markdown",
   "metadata": {},
   "source": [
    "Rank değişkenini kategorik olarak değerlendirmenin avantaj ve dezavantajlarını göz önünde bulundurun. Argümanlarınızı mentorunuzla tartışın.\n",
    "\n",
    "cevap: kategorik olarak değerlendirmek mantıklı gelebilir ancak görüntülenme sayısı, abone saysı ve video sayıları bu tablonun  en önemli verilerini içermektedir. Abone sayısı fazla olup video sayısı az olan veya görüntülenme sayısı az olan olabilir. aslında bu durum kanalın sırasını değiştirebilir. Ancak yinede Rank değişkenini kategorik olarak almak mantıklı olabilir."
   ]
  },
  {
   "cell_type": "markdown",
   "metadata": {},
   "source": [
    "# Ödev 2"
   ]
  },
  {
   "cell_type": "markdown",
   "metadata": {},
   "source": [
    "Aşağıdaki değişkenlerin türlerini belirleyin:\n",
    "\n",
    "Yaş\n",
    "Maaş\n",
    "Gelir\n",
    "Müşteri türü\n",
    "Hisse senedi fiyatı\n",
    "Kafanıza takılan konuları mentörünüzle konuşabilir ya da ofis saatinde Slack üzerinden sorabilirsiniz\n",
    "\n",
    "cevap: Yaş/Sürekli, Maaş/Sürekli, Gelir/Sürekli, Müşteri Türü/KAtegorik, Hisse Senedei Fiyatı/Sürekli"
   ]
  }
 ],
 "metadata": {
  "kernelspec": {
   "display_name": "Python 3",
   "language": "python",
   "name": "python3"
  },
  "language_info": {
   "codemirror_mode": {
    "name": "ipython",
    "version": 3
   },
   "file_extension": ".py",
   "mimetype": "text/x-python",
   "name": "python",
   "nbconvert_exporter": "python",
   "pygments_lexer": "ipython3",
   "version": "3.7.4"
  }
 },
 "nbformat": 4,
 "nbformat_minor": 2
}
