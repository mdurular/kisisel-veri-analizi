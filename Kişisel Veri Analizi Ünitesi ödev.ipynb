{
 "cells": [
  {
   "cell_type": "markdown",
   "metadata": {},
   "source": [
    "# Kişisel Veri Analizi Ünitesi Ödev1"
   ]
  },
  {
   "cell_type": "markdown",
   "metadata": {},
   "source": [
    "1. Keşifsel Veri Analizinin amacı nedir?\n",
    "Modellerimizin en iyi performanslarını elde etmelerine yardımcı olacak en kullanışlı özellikleri ortaya çıkarabilmek için veri öğeleri arasındaki ilişkileri arayarak bulmaktır."
   ]
  },
  {
   "cell_type": "markdown",
   "metadata": {},
   "source": [
    "2. Bir e-ticaret şirketinin ürünlerine ait müşteri yorumlarını içeren bir veri kümesi üzerinde çalıştığınızı farz edin. Şirketin web sitesi aracılığıyla toplanan müşteri yorumları içeriğinin olumlu ya da olumsuz olmasına göre 1 ila 5 arasında derecelendirilmiştir.\n",
    "\n",
    " a. Bu ham veride ne tür problemlerle karşılaşmayı beklersiniz?\n",
    "\n",
    " b. Göreviniz müşterilerin yorumlarının olumlu yada olumsuz olduğunu ortaya çıkaran özellikleri belirlemek olsaydı nasıl bir yaplaşımda bulunur ve bunun için hangi metodları kullanırdınız?\n",
    "\n",
    " c. Ham veriden çıkarılabilecek yararlı özelliklerin neler olabilir? Bu verilere nasıl ulaşılabilirsiniz ve bunların faydalı olup olmayacağını nasıl anlayabilirsiniz?\n",
    " \n",
    " cevaplar:\n",
    " a: müşterinin yaptığı nitel yorumlara bakmadan sadece niceliksel oylamaya göre değerlendirmede bulunmak hatalı sonuçlar verebilir. Müşteri memnuniyet seviyesini yanlış aretlemiş olma olasılığı göz ardı edilmemelidir.\n",
    " \n",
    " b: keşifsel veri analizi yaparak verilen puanlardan yprumlarla uyumlu olmayanları ve yorumsuz puanlamaları temizler yada anlamlı hale getirerek değerledirmede bulunurdum.\n",
    " \n",
    " c: araştırmacılar doğru analizi yaparken bir hata yapmış olabilir. Ham verilere başkalarının erişimi bu hataların ortaya çıkmasına katkıda bulunacaktır, dolayısıyla ham verilerin elimizde olması sürekli olarak yeni bakış açısı ve değerledirme imkanı sunacaktır."
   ]
  }
 ],
 "metadata": {
  "kernelspec": {
   "display_name": "Python 3",
   "language": "python",
   "name": "python3"
  },
  "language_info": {
   "codemirror_mode": {
    "name": "ipython",
    "version": 3
   },
   "file_extension": ".py",
   "mimetype": "text/x-python",
   "name": "python",
   "nbconvert_exporter": "python",
   "pygments_lexer": "ipython3",
   "version": "3.7.4"
  }
 },
 "nbformat": 4,
 "nbformat_minor": 2
}
